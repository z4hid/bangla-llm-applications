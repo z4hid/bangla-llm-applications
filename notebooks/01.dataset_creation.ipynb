{
 "cells": [
  {
   "cell_type": "markdown",
   "metadata": {},
   "source": [
    "# Create dataset"
   ]
  },
  {
   "cell_type": "code",
   "execution_count": 1,
   "metadata": {},
   "outputs": [],
   "source": [
    "import pandas as pd"
   ]
  },
  {
   "cell_type": "code",
   "execution_count": null,
   "metadata": {},
   "outputs": [
    {
     "data": {
      "text/html": [
       "<div>\n",
       "<style scoped>\n",
       "    .dataframe tbody tr th:only-of-type {\n",
       "        vertical-align: middle;\n",
       "    }\n",
       "\n",
       "    .dataframe tbody tr th {\n",
       "        vertical-align: top;\n",
       "    }\n",
       "\n",
       "    .dataframe thead th {\n",
       "        text-align: right;\n",
       "    }\n",
       "</style>\n",
       "<table border=\"1\" class=\"dataframe\">\n",
       "  <thead>\n",
       "    <tr style=\"text-align: right;\">\n",
       "      <th></th>\n",
       "      <th>Unnamed: 0</th>\n",
       "      <th>Question</th>\n",
       "      <th>A</th>\n",
       "      <th>B</th>\n",
       "      <th>C</th>\n",
       "      <th>D</th>\n",
       "      <th>Answer</th>\n",
       "      <th>Subject</th>\n",
       "    </tr>\n",
       "  </thead>\n",
       "  <tbody>\n",
       "    <tr>\n",
       "      <th>0</th>\n",
       "      <td>0</td>\n",
       "      <td>প্রদত্ত ক্ষেত্রের বর্ধিতাংশের জন্য Q(sqrt(2), ...</td>\n",
       "      <td>0</td>\n",
       "      <td>4</td>\n",
       "      <td>2</td>\n",
       "      <td>6</td>\n",
       "      <td>B</td>\n",
       "      <td>abstract_algebra</td>\n",
       "    </tr>\n",
       "    <tr>\n",
       "      <th>1</th>\n",
       "      <td>1</td>\n",
       "      <td>ধরুন p = (1, 2, 5, 4)(2, 3) S_5 এ। S_5 এ &lt;p&gt; এ...</td>\n",
       "      <td>8</td>\n",
       "      <td>2</td>\n",
       "      <td>24</td>\n",
       "      <td>120</td>\n",
       "      <td>C</td>\n",
       "      <td>abstract_algebra</td>\n",
       "    </tr>\n",
       "    <tr>\n",
       "      <th>2</th>\n",
       "      <td>2</td>\n",
       "      <td>সেই ক্ষেত্রে সহগ সহ প্রদত্ত বহুপদীর নির্দেশিত ...</td>\n",
       "      <td>0</td>\n",
       "      <td>1</td>\n",
       "      <td>0,1</td>\n",
       "      <td>0,4</td>\n",
       "      <td>D</td>\n",
       "      <td>abstract_algebra</td>\n",
       "    </tr>\n",
       "    <tr>\n",
       "      <th>3</th>\n",
       "      <td>3</td>\n",
       "      <td>বিবৃতি 1 | একটি নন-আবেলিয়ান গ্রুপের একটি ফ্যা...</td>\n",
       "      <td>সত্য, সত্য</td>\n",
       "      <td>মিথ্যা, মিথ্যা</td>\n",
       "      <td>সত্য, মিথ্যা</td>\n",
       "      <td>মিথ্যা, সত্য</td>\n",
       "      <td>B</td>\n",
       "      <td>abstract_algebra</td>\n",
       "    </tr>\n",
       "    <tr>\n",
       "      <th>4</th>\n",
       "      <td>4</td>\n",
       "      <td>প্রদত্ত বহুপদগুলির গুণফল নির্ণয় কর প্রদত্ত বহ...</td>\n",
       "      <td>2x^2 + 5</td>\n",
       "      <td>6x^2 + 4x + 6</td>\n",
       "      <td>0</td>\n",
       "      <td>x^2 + 1</td>\n",
       "      <td>B</td>\n",
       "      <td>abstract_algebra</td>\n",
       "    </tr>\n",
       "  </tbody>\n",
       "</table>\n",
       "</div>"
      ],
      "text/plain": [
       "   Unnamed: 0                                           Question           A  \\\n",
       "0           0  প্রদত্ত ক্ষেত্রের বর্ধিতাংশের জন্য Q(sqrt(2), ...           0   \n",
       "1           1  ধরুন p = (1, 2, 5, 4)(2, 3) S_5 এ। S_5 এ <p> এ...           8   \n",
       "2           2  সেই ক্ষেত্রে সহগ সহ প্রদত্ত বহুপদীর নির্দেশিত ...           0   \n",
       "3           3  বিবৃতি 1 | একটি নন-আবেলিয়ান গ্রুপের একটি ফ্যা...  সত্য, সত্য   \n",
       "4           4  প্রদত্ত বহুপদগুলির গুণফল নির্ণয় কর প্রদত্ত বহ...    2x^2 + 5   \n",
       "\n",
       "                B             C             D Answer           Subject  \n",
       "0               4             2             6      B  abstract_algebra  \n",
       "1               2            24           120      C  abstract_algebra  \n",
       "2               1           0,1           0,4      D  abstract_algebra  \n",
       "3  মিথ্যা, মিথ্যা  সত্য, মিথ্যা  মিথ্যা, সত্য      B  abstract_algebra  \n",
       "4   6x^2 + 4x + 6             0       x^2 + 1      B  abstract_algebra  "
      ]
     },
     "execution_count": 2,
     "metadata": {},
     "output_type": "execute_result"
    }
   ],
   "source": [
    "# mmlu_BN-BD\n",
    "df = pd.read_csv('mmlu_BN-BD.csv')\n",
    "df.head()"
   ]
  },
  {
   "cell_type": "code",
   "execution_count": null,
   "metadata": {},
   "outputs": [
    {
     "data": {
      "text/plain": [
       "Subject\n",
       "professional_law                       1534\n",
       "moral_scenarios                         895\n",
       "miscellaneous                           783\n",
       "professional_psychology                 612\n",
       "high_school_psychology                  545\n",
       "high_school_macroeconomics              390\n",
       "elementary_mathematics                  378\n",
       "moral_disputes                          346\n",
       "prehistory                              324\n",
       "philosophy                              311\n",
       "high_school_biology                     310\n",
       "nutrition                               306\n",
       "professional_accounting                 282\n",
       "professional_medicine                   272\n",
       "high_school_mathematics                 270\n",
       "clinical_knowledge                      265\n",
       "security_studies                        245\n",
       "high_school_microeconomics              238\n",
       "high_school_world_history               237\n",
       "conceptual_physics                      235\n",
       "marketing                               234\n",
       "human_aging                             223\n",
       "high_school_statistics                  216\n",
       "high_school_us_history                  204\n",
       "high_school_chemistry                   203\n",
       "sociology                               201\n",
       "high_school_geography                   198\n",
       "high_school_government_and_politics     193\n",
       "college_medicine                        173\n",
       "world_religions                         171\n",
       "virology                                166\n",
       "high_school_european_history            165\n",
       "logical_fallacies                       163\n",
       "astronomy                               152\n",
       "high_school_physics                     151\n",
       "electrical_engineering                  145\n",
       "college_biology                         144\n",
       "anatomy                                 135\n",
       "human_sexuality                         131\n",
       "formal_logic                            126\n",
       "international_law                       121\n",
       "econometrics                            114\n",
       "machine_learning                        112\n",
       "public_relations                        110\n",
       "jurisprudence                           108\n",
       "management                              103\n",
       "college_physics                         102\n",
       "us_foreign_policy                       100\n",
       "business_ethics                         100\n",
       "college_mathematics                     100\n",
       "college_chemistry                       100\n",
       "college_computer_science                100\n",
       "high_school_computer_science            100\n",
       "computer_security                       100\n",
       "global_facts                            100\n",
       "medical_genetics                        100\n",
       "abstract_algebra                        100\n",
       "Name: count, dtype: int64"
      ]
     },
     "execution_count": 3,
     "metadata": {},
     "output_type": "execute_result"
    }
   ],
   "source": [
    "df['Subject'].value_counts() # count the number of subjects"
   ]
  },
  {
   "cell_type": "code",
   "execution_count": null,
   "metadata": {},
   "outputs": [
    {
     "data": {
      "text/plain": [
       "(1642, 8)"
      ]
     },
     "execution_count": 4,
     "metadata": {},
     "output_type": "execute_result"
    }
   ],
   "source": [
    "df_law = df[(df['Subject'] == 'professional_law') | (df['Subject'] == 'jurisprudence')] # select only the 'professional_law' and 'jurisprudence' rows\n",
    "df_law.shape"
   ]
  },
  {
   "cell_type": "code",
   "execution_count": 5,
   "metadata": {},
   "outputs": [
    {
     "name": "stderr",
     "output_type": "stream",
     "text": [
      "/tmp/ipykernel_22438/1250201862.py:3: SettingWithCopyWarning: \n",
      "A value is trying to be set on a copy of a slice from a DataFrame.\n",
      "Try using .loc[row_indexer,col_indexer] = value instead\n",
      "\n",
      "See the caveats in the documentation: https://pandas.pydata.org/pandas-docs/stable/user_guide/indexing.html#returning-a-view-versus-a-copy\n",
      "  df_law['Reply'] = df_law.apply(lambda row: row[row['Answer']], axis=1)\n"
     ]
    }
   ],
   "source": [
    "\n",
    "# prompt: for the df_law dataframe I want to keep the column 'Question' and we create a new column with the column value that is mentionned under 'Answer' column example for the first line the the Answer column value is D then we keep the value of the D column in this new column we name 'Reply'\n",
    "\n",
    "df_law['Reply'] = df_law.apply(lambda row: row[row['Answer']], axis=1)"
   ]
  },
  {
   "cell_type": "code",
   "execution_count": 6,
   "metadata": {},
   "outputs": [],
   "source": [
    "pd.set_option('display.max_colwidth', None)  # Set to None to display the full content of the columns"
   ]
  },
  {
   "cell_type": "code",
   "execution_count": 7,
   "metadata": {},
   "outputs": [],
   "source": [
    "df_law=df_law[['Question','Reply']]"
   ]
  },
  {
   "cell_type": "code",
   "execution_count": 8,
   "metadata": {},
   "outputs": [
    {
     "data": {
      "text/html": [
       "<div>\n",
       "<style scoped>\n",
       "    .dataframe tbody tr th:only-of-type {\n",
       "        vertical-align: middle;\n",
       "    }\n",
       "\n",
       "    .dataframe tbody tr th {\n",
       "        vertical-align: top;\n",
       "    }\n",
       "\n",
       "    .dataframe thead th {\n",
       "        text-align: right;\n",
       "    }\n",
       "</style>\n",
       "<table border=\"1\" class=\"dataframe\">\n",
       "  <thead>\n",
       "    <tr style=\"text-align: right;\">\n",
       "      <th></th>\n",
       "      <th>Question</th>\n",
       "      <th>Reply</th>\n",
       "    </tr>\n",
       "  </thead>\n",
       "  <tbody>\n",
       "    <tr>\n",
       "      <th>6564</th>\n",
       "      <td>কোন বিবৃতিটি হার্টের 'বাধিত হওয়া' এবং 'একটি বাধ্যবাধকতা থাকার' মধ্যে পৃথকীকরণের উদ্দেশ্যটিকে সবচেয়ে ভালোভাবে ব্যাখ্যা করে?</td>\n",
       "      <td>এটি একটি নিয়মের ধারণাকে আলোকিত করে।</td>\n",
       "    </tr>\n",
       "    <tr>\n",
       "      <th>6565</th>\n",
       "      <td>‘প্রগতিশীল সমাজগুলির গতি এতদিন পর্যন্ত স্টেটাস থেকে কন্ট্রাক্টের দিকে একটি যাত্রা ছিল', মেইনের বিখ্যাত এই উক্তিটিকে প্রায়শই ভুল বোঝা হয়েছে। কীভাবে?</td>\n",
       "      <td>এটি একটি ভবিষ্যদ্বাণী হিসাবে ভুল ব্যাখ্যা করা হয়েছে।</td>\n",
       "    </tr>\n",
       "    <tr>\n",
       "      <th>6566</th>\n",
       "      <td>বিংশ শতাব্দীতে প্রাকৃতিক আইনের পুনরুত্থানে নিম্নলিখিতগুলির মধ্যে কোন বিষয়গুলির উল্লেখযোগ্য অবদান ছিল?</td>\n",
       "      <td>দ্বিতীয় বিশ্বযুদ্ধের পর মানবাধিকারের আন্তর্জাতিক স্বীকৃতি</td>\n",
       "    </tr>\n",
       "    <tr>\n",
       "      <th>6567</th>\n",
       "      <td>আইনি যুক্তিপ্রয়োগের ব্যাপক এবং আনুষ্ঠানিক শৈলীর মধ্যে লেভেলিনের ভিন্নতার নিম্নলিখিত সমালোচনাগুলির মধ্যে কোনটি সবচেয়ে জোরালো?</td>\n",
       "      <td>এইভাবে বিচারকদের ক্ষুদ্র গণ্ডির মধ্যে সীমাবদ্ধ করে দেওয়া বিভ্রান্তিকর।</td>\n",
       "    </tr>\n",
       "    <tr>\n",
       "      <th>6568</th>\n",
       "      <td>POP যে 'সামাজিক প্রাথমিক পণ্য'-এর ক্ষেত্রে নির্বাচন করে নেবে, রলসের এই দাবিটির সাথে নিচের কোন প্রস্তাবটি সবচেয়ে সামঞ্জস্যপূর্ণ?</td>\n",
       "      <td>POP একটি সহানুভূতিশীল সমাজের পরিবর্তে সম্পদ বেছে নেবে।</td>\n",
       "    </tr>\n",
       "  </tbody>\n",
       "</table>\n",
       "</div>"
      ],
      "text/plain": [
       "                                                                                                                                                  Question  \\\n",
       "6564                          কোন বিবৃতিটি হার্টের 'বাধিত হওয়া' এবং 'একটি বাধ্যবাধকতা থাকার' মধ্যে পৃথকীকরণের উদ্দেশ্যটিকে সবচেয়ে ভালোভাবে ব্যাখ্যা করে?   \n",
       "6565  ‘প্রগতিশীল সমাজগুলির গতি এতদিন পর্যন্ত স্টেটাস থেকে কন্ট্রাক্টের দিকে একটি যাত্রা ছিল', মেইনের বিখ্যাত এই উক্তিটিকে প্রায়শই ভুল বোঝা হয়েছে। কীভাবে?   \n",
       "6566                                                বিংশ শতাব্দীতে প্রাকৃতিক আইনের পুনরুত্থানে নিম্নলিখিতগুলির মধ্যে কোন বিষয়গুলির উল্লেখযোগ্য অবদান ছিল?   \n",
       "6567                         আইনি যুক্তিপ্রয়োগের ব্যাপক এবং আনুষ্ঠানিক শৈলীর মধ্যে লেভেলিনের ভিন্নতার নিম্নলিখিত সমালোচনাগুলির মধ্যে কোনটি সবচেয়ে জোরালো?   \n",
       "6568                      POP যে 'সামাজিক প্রাথমিক পণ্য'-এর ক্ষেত্রে নির্বাচন করে নেবে, রলসের এই দাবিটির সাথে নিচের কোন প্রস্তাবটি সবচেয়ে সামঞ্জস্যপূর্ণ?   \n",
       "\n",
       "                                                                       Reply  \n",
       "6564                                    এটি একটি নিয়মের ধারণাকে আলোকিত করে।  \n",
       "6565                    এটি একটি ভবিষ্যদ্বাণী হিসাবে ভুল ব্যাখ্যা করা হয়েছে।  \n",
       "6566              দ্বিতীয় বিশ্বযুদ্ধের পর মানবাধিকারের আন্তর্জাতিক স্বীকৃতি  \n",
       "6567  এইভাবে বিচারকদের ক্ষুদ্র গণ্ডির মধ্যে সীমাবদ্ধ করে দেওয়া বিভ্রান্তিকর।  \n",
       "6568                  POP একটি সহানুভূতিশীল সমাজের পরিবর্তে সম্পদ বেছে নেবে।  "
      ]
     },
     "execution_count": 8,
     "metadata": {},
     "output_type": "execute_result"
    }
   ],
   "source": [
    "df_law.head(5)"
   ]
  },
  {
   "cell_type": "code",
   "execution_count": 9,
   "metadata": {},
   "outputs": [],
   "source": [
    "df_law.to_csv('law-bn.csv', index=False)"
   ]
  },
  {
   "cell_type": "code",
   "execution_count": null,
   "metadata": {},
   "outputs": [],
   "source": []
  }
 ],
 "metadata": {
  "kernelspec": {
   "display_name": "genai",
   "language": "python",
   "name": "python3"
  },
  "language_info": {
   "codemirror_mode": {
    "name": "ipython",
    "version": 3
   },
   "file_extension": ".py",
   "mimetype": "text/x-python",
   "name": "python",
   "nbconvert_exporter": "python",
   "pygments_lexer": "ipython3",
   "version": "3.11.10"
  }
 },
 "nbformat": 4,
 "nbformat_minor": 2
}
